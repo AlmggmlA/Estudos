{
 "cells": [
  {
   "cell_type": "code",
   "execution_count": 77,
   "id": "24c92e8f",
   "metadata": {},
   "outputs": [],
   "source": [
    "# pip install -U numpy\n",
    "# !pip install -q -U watermark"
   ]
  },
  {
   "cell_type": "code",
   "execution_count": 78,
   "id": "9e51a9b4",
   "metadata": {},
   "outputs": [],
   "source": [
    "import numpy as np"
   ]
  },
  {
   "cell_type": "code",
   "execution_count": 79,
   "id": "7fa90104",
   "metadata": {},
   "outputs": [],
   "source": [
    "import warnings\n",
    "warnings.filterwarnings('ignore')"
   ]
  },
  {
   "cell_type": "code",
   "execution_count": 80,
   "id": "ad1491e4",
   "metadata": {},
   "outputs": [
    {
     "name": "stdout",
     "output_type": "stream",
     "text": [
      "Author: Aprígio Gusmão\n",
      "\n",
      "numpy: 1.23.5\n",
      "\n"
     ]
    }
   ],
   "source": [
    "%reload_ext watermark\n",
    "%watermark -a \"Aprígio Gusmão\" --iversions"
   ]
  },
  {
   "cell_type": "code",
   "execution_count": 81,
   "id": "e34a9eb1",
   "metadata": {},
   "outputs": [],
   "source": [
    "    # configuração de impressão do NumPy\n",
    "np.set_printoptions(suppress = True, linewidth = 200, precision = 2)"
   ]
  },
  {
   "cell_type": "code",
   "execution_count": 82,
   "id": "4dedfcc5",
   "metadata": {},
   "outputs": [],
   "source": [
    "dados = np.genfromtxt(\"dataset/dataset1.csv\",\n",
    "                     delimiter= \";\",\n",
    "                     skip_header= 1,\n",
    "                     autostrip= True,\n",
    "                     encoding= 'cp1252')"
   ]
  },
  {
   "cell_type": "code",
   "execution_count": 83,
   "id": "2deff0a8",
   "metadata": {},
   "outputs": [
    {
     "data": {
      "text/plain": [
       "numpy.ndarray"
      ]
     },
     "execution_count": 83,
     "metadata": {},
     "output_type": "execute_result"
    }
   ],
   "source": [
    "type(dados)"
   ]
  },
  {
   "cell_type": "code",
   "execution_count": 84,
   "id": "96442f0e",
   "metadata": {},
   "outputs": [
    {
     "data": {
      "text/plain": [
       "(10000, 14)"
      ]
     },
     "execution_count": 84,
     "metadata": {},
     "output_type": "execute_result"
    }
   ],
   "source": [
    "dados.shape"
   ]
  },
  {
   "cell_type": "code",
   "execution_count": 85,
   "id": "1fa63409",
   "metadata": {},
   "outputs": [
    {
     "data": {
      "text/plain": [
       "array([[48010226.  ,         nan,    35000.  , ...,         nan,         nan,     9452.96],\n",
       "       [57693261.  ,         nan,    30000.  , ...,         nan,         nan,     4679.7 ],\n",
       "       [59432726.  ,         nan,    15000.  , ...,         nan,         nan,     1969.83],\n",
       "       ...,\n",
       "       [50415990.  ,         nan,    10000.  , ...,         nan,         nan,     2185.64],\n",
       "       [46154151.  ,         nan,         nan, ...,         nan,         nan,     3199.4 ],\n",
       "       [66055249.  ,         nan,    10000.  , ...,         nan,         nan,      301.9 ]])"
      ]
     },
     "execution_count": 85,
     "metadata": {},
     "output_type": "execute_result"
    }
   ],
   "source": [
    "dados.view()"
   ]
  },
  {
   "cell_type": "code",
   "execution_count": 86,
   "id": "2b3db240",
   "metadata": {},
   "outputs": [
    {
     "data": {
      "text/plain": [
       "88005"
      ]
     },
     "execution_count": 86,
     "metadata": {},
     "output_type": "execute_result"
    }
   ],
   "source": [
    "np.isnan(dados).sum()"
   ]
  },
  {
   "cell_type": "code",
   "execution_count": 87,
   "id": "cb9e82b0",
   "metadata": {},
   "outputs": [
    {
     "name": "stdout",
     "output_type": "stream",
     "text": [
      "68616520.0\n"
     ]
    }
   ],
   "source": [
    "# retornaremos o maior valor + 1, ignorando os NAN\n",
    "# o valor arbitrário que utilizaremos será para preencher com valores ausentes\n",
    "valor_arbitrario = np.nanmax(dados) + 1\n",
    "print(valor_arbitrario)"
   ]
  },
  {
   "cell_type": "code",
   "execution_count": 88,
   "id": "c3bdb44a",
   "metadata": {},
   "outputs": [
    {
     "name": "stdout",
     "output_type": "stream",
     "text": [
      "[54015809.19         nan    15273.46         nan    15311.04         nan       16.62      440.92         nan         nan         nan         nan         nan     3143.85]\n"
     ]
    }
   ],
   "source": [
    "# Calcularemos a média ignorando os valores NAN por coluna\n",
    "# Faremos isso para poder separar variáveis numéricas das do tipo string\n",
    "media_ignorando_nan = np.nanmean(dados, axis = 0)\n",
    "print(media_ignorando_nan)"
   ]
  },
  {
   "cell_type": "code",
   "execution_count": 89,
   "id": "ceb27600",
   "metadata": {},
   "outputs": [
    {
     "data": {
      "text/plain": [
       "array([ 1,  3,  5,  8,  9, 10, 11, 12], dtype=int64)"
      ]
     },
     "execution_count": 89,
     "metadata": {},
     "output_type": "execute_result"
    }
   ],
   "source": [
    "# colunas do tipo string com valores ausentes\n",
    "col_strings = np.argwhere(np.isnan(media_ignorando_nan)).squeeze() # colocar uma lista num array numpy\n",
    "col_strings"
   ]
  },
  {
   "cell_type": "code",
   "execution_count": 90,
   "id": "38a0dbfd",
   "metadata": {},
   "outputs": [
    {
     "data": {
      "text/plain": [
       "array([ 0,  2,  4,  6,  7, 13], dtype=int64)"
      ]
     },
     "execution_count": 90,
     "metadata": {},
     "output_type": "execute_result"
    }
   ],
   "source": [
    "# colunas numéricas\n",
    "col_numericas = np.argwhere(np.isnan(media_ignorando_nan) == False).squeeze()\n",
    "col_numericas"
   ]
  },
  {
   "cell_type": "code",
   "execution_count": 91,
   "id": "81a85198",
   "metadata": {},
   "outputs": [],
   "source": [
    "# Carregar as colunas do tipo string\n",
    "arr_strings = np.genfromtxt(\"dataset/dataset1.csv\",\n",
    "                            delimiter= \";\",\n",
    "                            skip_header= 1,\n",
    "                            autostrip= True,\n",
    "                            usecols= col_strings,\n",
    "                            dtype= str,\n",
    "                            encoding= 'cp1252')"
   ]
  },
  {
   "cell_type": "code",
   "execution_count": 92,
   "id": "7fc3c949",
   "metadata": {},
   "outputs": [
    {
     "data": {
      "text/plain": [
       "array([['May-15', 'Current', '36 months', ..., 'Verified', 'https://www.lendingclub.com/browse/loanDetail.action?loan_id=48010226', 'CA'],\n",
       "       ['', 'Current', '36 months', ..., 'Source Verified', 'https://www.lendingclub.com/browse/loanDetail.action?loan_id=57693261', 'NY'],\n",
       "       ['Sep-15', 'Current', '36 months', ..., 'Verified', 'https://www.lendingclub.com/browse/loanDetail.action?loan_id=59432726', 'PA'],\n",
       "       ...,\n",
       "       ['Jun-15', 'Current', '36 months', ..., 'Source Verified', 'https://www.lendingclub.com/browse/loanDetail.action?loan_id=50415990', 'CA'],\n",
       "       ['Apr-15', 'Current', '36 months', ..., 'Source Verified', 'https://www.lendingclub.com/browse/loanDetail.action?loan_id=46154151', 'OH'],\n",
       "       ['Dec-15', 'Current', '36 months', ..., '', 'https://www.lendingclub.com/browse/loanDetail.action?loan_id=66055249', 'IL']], dtype='<U69')"
      ]
     },
     "execution_count": 92,
     "metadata": {},
     "output_type": "execute_result"
    }
   ],
   "source": [
    "arr_strings"
   ]
  },
  {
   "cell_type": "code",
   "execution_count": 93,
   "id": "87fba452",
   "metadata": {},
   "outputs": [],
   "source": [
    "# Carregar as colunas do tipo numérica preenchendo os valores ausentes\n",
    "arr_numeric = np.genfromtxt(\"dataset/dataset1.csv\",\n",
    "                            delimiter= \";\",\n",
    "                            skip_header= 1,\n",
    "                            autostrip= True,\n",
    "                            usecols= col_numericas,\n",
    "                            filling_values= valor_arbitrario,\n",
    "                            encoding= 'cp1252')"
   ]
  },
  {
   "cell_type": "code",
   "execution_count": 94,
   "id": "fc233241",
   "metadata": {},
   "outputs": [
    {
     "data": {
      "text/plain": [
       "array([[48010226.  ,    35000.  ,    35000.  ,       13.33,     1184.86,     9452.96],\n",
       "       [57693261.  ,    30000.  ,    30000.  , 68616520.  ,      938.57,     4679.7 ],\n",
       "       [59432726.  ,    15000.  ,    15000.  , 68616520.  ,      494.86,     1969.83],\n",
       "       ...,\n",
       "       [50415990.  ,    10000.  ,    10000.  , 68616520.  , 68616520.  ,     2185.64],\n",
       "       [46154151.  , 68616520.  ,    10000.  ,       16.55,      354.3 ,     3199.4 ],\n",
       "       [66055249.  ,    10000.  ,    10000.  , 68616520.  ,      309.97,      301.9 ]])"
      ]
     },
     "execution_count": 94,
     "metadata": {},
     "output_type": "execute_result"
    }
   ],
   "source": [
    "arr_numeric"
   ]
  },
  {
   "cell_type": "code",
   "execution_count": 95,
   "id": "ed3f2a4c",
   "metadata": {},
   "outputs": [],
   "source": [
    "# carrega os nomes das colunas\n",
    "arr_nomes_colunas = np.genfromtxt(\"dataset/dataset1.csv\",\n",
    "                                  delimiter = ';',\n",
    "                                  autostrip = True,\n",
    "                                  skip_footer = dados.shape[0],\n",
    "                                  dtype = str, \n",
    "                                  encoding = 'cp1252')"
   ]
  },
  {
   "cell_type": "code",
   "execution_count": 96,
   "id": "923773ec",
   "metadata": {},
   "outputs": [
    {
     "data": {
      "text/plain": [
       "array(['id', 'issue_d', 'loan_amnt', 'loan_status', 'funded_amnt', 'term', 'int_rate', 'installment', 'grade', 'sub_grade', 'verification_status', 'url', 'addr_state', 'total_pymnt'], dtype='<U19')"
      ]
     },
     "execution_count": 96,
     "metadata": {},
     "output_type": "execute_result"
    }
   ],
   "source": [
    "arr_nomes_colunas"
   ]
  },
  {
   "cell_type": "code",
   "execution_count": 97,
   "id": "df68b2f8",
   "metadata": {},
   "outputs": [],
   "source": [
    "# Separa cabeçalho de colunas numéricas e string\n",
    "header_strings, header_numeric = arr_nomes_colunas[col_strings], arr_nomes_colunas[col_numericas]"
   ]
  },
  {
   "cell_type": "code",
   "execution_count": 98,
   "id": "8d85cc19",
   "metadata": {},
   "outputs": [
    {
     "data": {
      "text/plain": [
       "array(['issue_d', 'loan_status', 'term', 'grade', 'sub_grade', 'verification_status', 'url', 'addr_state'], dtype='<U19')"
      ]
     },
     "execution_count": 98,
     "metadata": {},
     "output_type": "execute_result"
    }
   ],
   "source": [
    "header_strings"
   ]
  },
  {
   "cell_type": "code",
   "execution_count": 99,
   "id": "e0a527bb",
   "metadata": {},
   "outputs": [
    {
     "data": {
      "text/plain": [
       "array(['id', 'loan_amnt', 'funded_amnt', 'int_rate', 'installment', 'total_pymnt'], dtype='<U19')"
      ]
     },
     "execution_count": 99,
     "metadata": {},
     "output_type": "execute_result"
    }
   ],
   "source": [
    "header_numeric"
   ]
  },
  {
   "cell_type": "markdown",
   "id": "c03aa9d6",
   "metadata": {},
   "source": [
    "# Função de Checkpoint\n",
    "#### checkpoint 01"
   ]
  },
  {
   "cell_type": "code",
   "execution_count": 100,
   "id": "2a6171b8",
   "metadata": {},
   "outputs": [],
   "source": [
    "def checkpoint(file_name,checkpoint_header,checkpoint_data):\n",
    "    np.savez(file_name, header = checkpoint_header, data = checkpoint_data)\n",
    "    checkpoint_variable = np.load(file_name + \".npz\")\n",
    "    return (checkpoint_variable)"
   ]
  },
  {
   "cell_type": "code",
   "execution_count": 101,
   "id": "d1ac623c",
   "metadata": {},
   "outputs": [],
   "source": [
    "chk_inicial = checkpoint(\"dataset/Checkpoint-Inicial\",header_strings, arr_strings)"
   ]
  },
  {
   "cell_type": "code",
   "execution_count": 102,
   "id": "fb234cdd",
   "metadata": {},
   "outputs": [
    {
     "data": {
      "text/plain": [
       "array([['May-15', 'Current', '36 months', ..., 'Verified', 'https://www.lendingclub.com/browse/loanDetail.action?loan_id=48010226', 'CA'],\n",
       "       ['', 'Current', '36 months', ..., 'Source Verified', 'https://www.lendingclub.com/browse/loanDetail.action?loan_id=57693261', 'NY'],\n",
       "       ['Sep-15', 'Current', '36 months', ..., 'Verified', 'https://www.lendingclub.com/browse/loanDetail.action?loan_id=59432726', 'PA'],\n",
       "       ...,\n",
       "       ['Jun-15', 'Current', '36 months', ..., 'Source Verified', 'https://www.lendingclub.com/browse/loanDetail.action?loan_id=50415990', 'CA'],\n",
       "       ['Apr-15', 'Current', '36 months', ..., 'Source Verified', 'https://www.lendingclub.com/browse/loanDetail.action?loan_id=46154151', 'OH'],\n",
       "       ['Dec-15', 'Current', '36 months', ..., '', 'https://www.lendingclub.com/browse/loanDetail.action?loan_id=66055249', 'IL']], dtype='<U69')"
      ]
     },
     "execution_count": 102,
     "metadata": {},
     "output_type": "execute_result"
    }
   ],
   "source": [
    "chk_inicial['data']"
   ]
  },
  {
   "cell_type": "code",
   "execution_count": 103,
   "id": "f268359c",
   "metadata": {},
   "outputs": [
    {
     "data": {
      "text/plain": [
       "True"
      ]
     },
     "execution_count": 103,
     "metadata": {},
     "output_type": "execute_result"
    }
   ],
   "source": [
    "np.array_equal(chk_inicial['data'],arr_strings) # verifica se o checkpoint criado (salvo em disco) é igual ou não ao arr_strings"
   ]
  },
  {
   "cell_type": "markdown",
   "id": "4a7d7d18",
   "metadata": {},
   "source": [
    "# Manipulando as colunas do tipo string"
   ]
  },
  {
   "cell_type": "code",
   "execution_count": 104,
   "id": "f99a60db",
   "metadata": {},
   "outputs": [
    {
     "data": {
      "text/plain": [
       "array(['issue_d', 'loan_status', 'term', 'grade', 'sub_grade', 'verification_status', 'url', 'addr_state'], dtype='<U19')"
      ]
     },
     "execution_count": 104,
     "metadata": {},
     "output_type": "execute_result"
    }
   ],
   "source": [
    "header_strings"
   ]
  },
  {
   "cell_type": "code",
   "execution_count": 105,
   "id": "431047b9",
   "metadata": {},
   "outputs": [],
   "source": [
    "# Ajustando o nome da coluna \"issue_d\" para facilitar a identificação\n",
    "header_strings[0] = \"issue_date\""
   ]
  },
  {
   "cell_type": "code",
   "execution_count": 106,
   "id": "97a39528",
   "metadata": {},
   "outputs": [
    {
     "data": {
      "text/plain": [
       "array(['issue_date', 'loan_status', 'term', 'grade', 'sub_grade', 'verification_status', 'url', 'addr_state'], dtype='<U19')"
      ]
     },
     "execution_count": 106,
     "metadata": {},
     "output_type": "execute_result"
    }
   ],
   "source": [
    "header_strings"
   ]
  },
  {
   "cell_type": "code",
   "execution_count": 107,
   "id": "cf6f7599",
   "metadata": {},
   "outputs": [
    {
     "data": {
      "text/plain": [
       "array([['May-15', 'Current', '36 months', ..., 'Verified', 'https://www.lendingclub.com/browse/loanDetail.action?loan_id=48010226', 'CA'],\n",
       "       ['', 'Current', '36 months', ..., 'Source Verified', 'https://www.lendingclub.com/browse/loanDetail.action?loan_id=57693261', 'NY'],\n",
       "       ['Sep-15', 'Current', '36 months', ..., 'Verified', 'https://www.lendingclub.com/browse/loanDetail.action?loan_id=59432726', 'PA'],\n",
       "       ...,\n",
       "       ['Jun-15', 'Current', '36 months', ..., 'Source Verified', 'https://www.lendingclub.com/browse/loanDetail.action?loan_id=50415990', 'CA'],\n",
       "       ['Apr-15', 'Current', '36 months', ..., 'Source Verified', 'https://www.lendingclub.com/browse/loanDetail.action?loan_id=46154151', 'OH'],\n",
       "       ['Dec-15', 'Current', '36 months', ..., '', 'https://www.lendingclub.com/browse/loanDetail.action?loan_id=66055249', 'IL']], dtype='<U69')"
      ]
     },
     "execution_count": 107,
     "metadata": {},
     "output_type": "execute_result"
    }
   ],
   "source": [
    "arr_strings"
   ]
  },
  {
   "cell_type": "markdown",
   "id": "ad3ff354",
   "metadata": {},
   "source": [
    "### Pré-Processamento da Variável \"issue_date\" com Label Encoding"
   ]
  },
  {
   "cell_type": "code",
   "execution_count": 108,
   "id": "01be296b",
   "metadata": {},
   "outputs": [
    {
     "data": {
      "text/plain": [
       "array(['', 'Apr-15', 'Aug-15', 'Dec-15', 'Feb-15', 'Jan-15', 'Jul-15', 'Jun-15', 'Mar-15', 'May-15', 'Nov-15', 'Oct-15', 'Sep-15'], dtype='<U69')"
      ]
     },
     "execution_count": 108,
     "metadata": {},
     "output_type": "execute_result"
    }
   ],
   "source": [
    "# Extrai os valores únicos da variável\n",
    "np.unique(arr_strings[:,0])"
   ]
  },
  {
   "cell_type": "code",
   "execution_count": 109,
   "id": "2d7acca5",
   "metadata": {},
   "outputs": [],
   "source": [
    "# Vamos remover o sufixo -15 e converter em um array de strings\n",
    "arr_strings[:,0] = np.chararray.strip(arr_strings[:,0], \"-15\")"
   ]
  },
  {
   "cell_type": "code",
   "execution_count": 110,
   "id": "e9e85ca5",
   "metadata": {},
   "outputs": [
    {
     "data": {
      "text/plain": [
       "array(['', 'Apr', 'Aug', 'Dec', 'Feb', 'Jan', 'Jul', 'Jun', 'Mar', 'May', 'Nov', 'Oct', 'Sep'], dtype='<U69')"
      ]
     },
     "execution_count": 110,
     "metadata": {},
     "output_type": "execute_result"
    }
   ],
   "source": [
    "# Extrai os valores únicos da variável\n",
    "np.unique(arr_strings[:,0])"
   ]
  },
  {
   "cell_type": "code",
   "execution_count": 111,
   "id": "6e3707bd",
   "metadata": {},
   "outputs": [],
   "source": [
    "# Criando um array com os meses (incluindo um elemento como vazio para o que estiver em branco)\n",
    "meses = np.array(['', 'Jan', 'Feb', 'Mar', 'Apr', 'May', 'Jun', 'Jul', 'Aug', 'Sep', 'Oct', 'Nov', 'Dec'])"
   ]
  },
  {
   "cell_type": "code",
   "execution_count": 112,
   "id": "bff7c9de",
   "metadata": {},
   "outputs": [],
   "source": [
    "# Convertendo os nomes dos meses em valores numéricos (label enconding)\n",
    "for indice in range(13):\n",
    "    arr_strings[:,0] = np.where(arr_strings[:,0] == meses[indice], indice, arr_strings[:,0])"
   ]
  },
  {
   "cell_type": "code",
   "execution_count": 113,
   "id": "51ee2f89",
   "metadata": {},
   "outputs": [
    {
     "data": {
      "text/plain": [
       "array(['0', '1', '10', '11', '12', '2', '3', '4', '5', '6', '7', '8', '9'], dtype='<U69')"
      ]
     },
     "execution_count": 113,
     "metadata": {},
     "output_type": "execute_result"
    }
   ],
   "source": [
    "np.unique(arr_strings[:,0])"
   ]
  },
  {
   "cell_type": "markdown",
   "id": "a8f3c660",
   "metadata": {},
   "source": [
    "### Pré-Processamento da Variável \"loan_status\" com Binarização"
   ]
  },
  {
   "cell_type": "code",
   "execution_count": 114,
   "id": "3d6981b5",
   "metadata": {},
   "outputs": [
    {
     "data": {
      "text/plain": [
       "array(['issue_date', 'loan_status', 'term', 'grade', 'sub_grade', 'verification_status', 'url', 'addr_state'], dtype='<U19')"
      ]
     },
     "execution_count": 114,
     "metadata": {},
     "output_type": "execute_result"
    }
   ],
   "source": [
    "header_strings"
   ]
  },
  {
   "cell_type": "code",
   "execution_count": 115,
   "id": "8d16be64",
   "metadata": {},
   "outputs": [
    {
     "data": {
      "text/plain": [
       "array(['', 'Charged Off', 'Current', 'Default', 'Fully Paid', 'In Grace Period', 'Issued', 'Late (16-30 days)', 'Late (31-120 days)'], dtype='<U69')"
      ]
     },
     "execution_count": 115,
     "metadata": {},
     "output_type": "execute_result"
    }
   ],
   "source": [
    "# Extraindo os valores únicos da variável\n",
    "np.unique(arr_strings[:,1])"
   ]
  },
  {
   "cell_type": "code",
   "execution_count": 116,
   "id": "bfb6c82e",
   "metadata": {},
   "outputs": [
    {
     "data": {
      "text/plain": [
       "9"
      ]
     },
     "execution_count": 116,
     "metadata": {},
     "output_type": "execute_result"
    }
   ],
   "source": [
    "# Número de elementos da coluna \"loan_status\" - status do empréstimo que a pessoa fez\n",
    "np.unique(arr_strings[:,1]).size"
   ]
  },
  {
   "cell_type": "code",
   "execution_count": 117,
   "id": "d6841ddb",
   "metadata": {},
   "outputs": [],
   "source": [
    "# Criando um array com 3 status:\n",
    "# 'Default' -> está com atraso\n",
    "# 'Late (31-120 days)' -> está atrasado entre 31 e 120 dias\n",
    "# 'Charged Off' -> Baixa, ou seja, declaração do credor informando que é improvável que a dívida seja cobrada\n",
    "#\n",
    "# \"status_bad\" - indica que o status do empréstimo não está muito bom\n",
    "status_bad = np.array(['', 'Charged Off', 'Default', 'Late (31-120 days)'])"
   ]
  },
  {
   "cell_type": "code",
   "execution_count": 118,
   "id": "10cd5049",
   "metadata": {},
   "outputs": [],
   "source": [
    "# Checando os valores da variável e comparando com o array \"status_bad\", \n",
    "# em seguida, convertemos a variável para valores binários (binarização).\n",
    "# 0: categoria ruim (indica problema no empréstimo)\n",
    "# 1: categoria boa\n",
    "arr_strings[:,1] = np.where(np.isin(arr_strings[:,1], status_bad),0,1)"
   ]
  },
  {
   "cell_type": "code",
   "execution_count": 119,
   "id": "17fc097e",
   "metadata": {},
   "outputs": [
    {
     "data": {
      "text/plain": [
       "array(['0', '1'], dtype='<U69')"
      ]
     },
     "execution_count": 119,
     "metadata": {},
     "output_type": "execute_result"
    }
   ],
   "source": [
    "# Extraindo os valores únicos da variável\n",
    "np.unique(arr_strings[:,1])"
   ]
  }
 ],
 "metadata": {
  "kernelspec": {
   "display_name": "Python 3 (ipykernel)",
   "language": "python",
   "name": "python3"
  },
  "language_info": {
   "codemirror_mode": {
    "name": "ipython",
    "version": 3
   },
   "file_extension": ".py",
   "mimetype": "text/x-python",
   "name": "python",
   "nbconvert_exporter": "python",
   "pygments_lexer": "ipython3",
   "version": "3.9.12"
  }
 },
 "nbformat": 4,
 "nbformat_minor": 5
}
